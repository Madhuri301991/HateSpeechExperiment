{
  "nbformat": 4,
  "nbformat_minor": 0,
  "metadata": {
    "colab": {
      "provenance": [],
      "authorship_tag": "ABX9TyNNXfehw1F5Ao6Hvcwe6WBn",
      "include_colab_link": true
    },
    "kernelspec": {
      "name": "python3",
      "display_name": "Python 3"
    },
    "language_info": {
      "name": "python"
    }
  },
  "cells": [
    {
      "cell_type": "markdown",
      "metadata": {
        "id": "view-in-github",
        "colab_type": "text"
      },
      "source": [
        "<a href=\"https://colab.research.google.com/github/Madhuri301991/HateSpeechExperiment/blob/Experiments/HateSpeechExperiment.ipynb\" target=\"_parent\"><img src=\"https://colab.research.google.com/assets/colab-badge.svg\" alt=\"Open In Colab\"/></a>"
      ]
    },
    {
      "cell_type": "code",
      "execution_count": null,
      "metadata": {
        "id": "rhy9zQFaCYoQ"
      },
      "outputs": [],
      "source": []
    },
    {
      "cell_type": "markdown",
      "source": [
        "Refer to below links\n",
        "1. https://github.com/xiaoleihuang/Multilingual_Fairness_LREC\n",
        "2. https://arxiv.org/pdf/2002.10361.**pdf**"
      ],
      "metadata": {
        "id": "uQeaktfdClEQ"
      }
    }
  ]
}